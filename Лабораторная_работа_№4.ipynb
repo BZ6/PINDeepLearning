{
  "nbformat": 4,
  "nbformat_minor": 0,
  "metadata": {
    "colab": {
      "provenance": [],
      "include_colab_link": true
    },
    "kernelspec": {
      "name": "python3",
      "display_name": "Python 3"
    },
    "language_info": {
      "name": "python"
    }
  },
  "cells": [
    {
      "cell_type": "markdown",
      "metadata": {
        "id": "view-in-github",
        "colab_type": "text"
      },
      "source": [
        "<a href=\"https://colab.research.google.com/github/BZ6/PINDeepLearning/blob/main/%D0%9B%D0%B0%D0%B1%D0%BE%D1%80%D0%B0%D1%82%D0%BE%D1%80%D0%BD%D0%B0%D1%8F_%D1%80%D0%B0%D0%B1%D0%BE%D1%82%D0%B0_%E2%84%964.ipynb\" target=\"_parent\"><img src=\"https://colab.research.google.com/assets/colab-badge.svg\" alt=\"Open In Colab\"/></a>"
      ]
    },
    {
      "cell_type": "markdown",
      "source": [
        "В этой лабораторной работе ваша задача состоит в ознакомлении с GAN.\n"
      ],
      "metadata": {
        "id": "16XowXBqeZF1"
      }
    },
    {
      "cell_type": "code",
      "execution_count": null,
      "metadata": {
        "id": "hVTpbvPAWCKO"
      },
      "outputs": [],
      "source": [
        "#import"
      ]
    },
    {
      "cell_type": "markdown",
      "source": [
        "Первая задача - это простая отработка генеративной архитектуры. Необходимо, взяв за основу датасет https://www.kaggle.com/datasets/zalando-research/fashionmnist, получить на выходе сети подобные входным изображения. Архитектуру генератора и дискриминатора подбирайте самостоятельно."
      ],
      "metadata": {
        "id": "-misof5seZg3"
      }
    },
    {
      "cell_type": "code",
      "source": [],
      "metadata": {
        "id": "2pP_TeIreYq4"
      },
      "execution_count": null,
      "outputs": []
    },
    {
      "cell_type": "code",
      "source": [],
      "metadata": {
        "id": "v_5ZFt8OeYoF"
      },
      "execution_count": null,
      "outputs": []
    },
    {
      "cell_type": "markdown",
      "source": [
        "Зачача №2 сосстоит в повышении качества изображения. Предлагается использовать две разные архитектуры: обычный автоэнкодер и генеративно-состязательную сеть. Здесь предлагается выбрать любой датасет, состоящий из изображений желательно в трех цветовых каналах, но можно взять и черно-белые, однако в любом случае исходные изображения должны быть в разрешении хотя бы 300х300 и представлять собой композиции (иначе говоря - быть \"сложными\". Подойдут, например, любые фотографии тех же кошек/собак). Датасет здесь состоит из изображений исходного размера, которые пойдут на выход, и их сжатых копий, которые пойдут на вход сети (просто скукожьте исходники с помощью resize в 2 или 4 раза). Отделите часть датасета для теста (не валидации!) и после обучения нейронной сети примените её к сжатым изображениям тестовой выборки. Результат применения выведете на экран. Не обязательно брать изображения в высоком разрешении,\n",
        "\n",
        "Автоэнкодер:"
      ],
      "metadata": {
        "id": "vbZC_CYBeZ7f"
      }
    },
    {
      "cell_type": "code",
      "source": [],
      "metadata": {
        "id": "hE5Hm-sceYlC"
      },
      "execution_count": null,
      "outputs": []
    },
    {
      "cell_type": "code",
      "source": [],
      "metadata": {
        "id": "GxltmhuSeYgJ"
      },
      "execution_count": null,
      "outputs": []
    },
    {
      "cell_type": "markdown",
      "source": [
        "GAN:"
      ],
      "metadata": {
        "id": "rxAkEHM0eaYh"
      }
    },
    {
      "cell_type": "code",
      "source": [],
      "metadata": {
        "id": "EZYiU0zGeYWL"
      },
      "execution_count": null,
      "outputs": []
    },
    {
      "cell_type": "code",
      "source": [],
      "metadata": {
        "id": "1LbB5nVpeas1"
      },
      "execution_count": null,
      "outputs": []
    }
  ]
}